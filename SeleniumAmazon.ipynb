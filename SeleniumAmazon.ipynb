{
 "cells": [
  {
   "cell_type": "code",
   "execution_count": 105,
   "id": "815bc335",
   "metadata": {},
   "outputs": [],
   "source": [
    "from selenium import webdriver\n",
    "import time"
   ]
  },
  {
   "cell_type": "code",
   "execution_count": 119,
   "id": "a1cf1a16",
   "metadata": {},
   "outputs": [],
   "source": [
    "def getPrice(urls):\n",
    "    driver = webdriver.Chrome('C:/Users/ismet/OneDrive/Bureaublad/chromedriver_win32 (1)/chromedriver.exe')\n",
    "    data = {}\n",
    "    for url in urls:\n",
    "        driver.get(url)\n",
    "        try:\n",
    "            accept_cookies = driver.find_element_by_xpath('//*[@id=\"sp-cc-accept\"]').click()\n",
    "        except:\n",
    "            pass\n",
    "        name = driver.find_element_by_xpath('//*[@id=\"title\"]').text\n",
    "        price = driver.find_element_by_xpath('//*[@id=\"olp_feature_div\"]/div[2]/span[1]/a/span[2]').text\n",
    "        data[name] = price\n",
    "        time.sleep(3)\n",
    "    driver.close()\n",
    "    return data"
   ]
  },
  {
   "cell_type": "code",
   "execution_count": 120,
   "id": "3e4897e2",
   "metadata": {},
   "outputs": [],
   "source": [
    "urls = ['https://www.amazon.de/-/nl/dp/B08PFZ28CN/ref=sr_1_1?__mk_nl_NL=%C3%85M%C3%85%C5%BD%C3%95%C3%91&dchild=1&keywords=3060+ti&qid=1632074314&sr=8-1',\n",
    "        'https://www.amazon.de/-/nl/dp/B09BP1827M/ref=sr_1_2?__mk_nl_NL=%C3%85M%C3%85%C5%BD%C3%95%C3%91&dchild=1&keywords=3060+ti&qid=1632074314&sr=8-2',\n",
    "        'https://www.amazon.de/-/nl/dp/B09968R87B/ref=sr_1_4?__mk_nl_NL=%C3%85M%C3%85%C5%BD%C3%95%C3%91&dchild=1&keywords=3060+ti&qid=1632074314&sr=8-4',\n",
    "        'https://www.amazon.de/-/nl/dp/B096XZZ92Q/ref=sr_1_7?__mk_nl_NL=%C3%85M%C3%85%C5%BD%C3%95%C3%91&dchild=1&keywords=3060+ti&qid=1632074314&sr=8-7',\n",
    "        'https://www.amazon.de/-/nl/dp/B0971XRQR4/ref=pd_vtp_4/261-4342348-6051742?pd_rd_w=9ohe6&pf_rd_p=4e0c7b51-e41d-4568-8470-6e0da61f6c1d&pf_rd_r=Q41N66TP6TVN57DGNTKK&pd_rd_r=b133a321-24be-461c-883a-438e4ec487fb&pd_rd_wg=3IfWv&pd_rd_i=B0971XRQR4&psc=1'\n",
    "       ]"
   ]
  },
  {
   "cell_type": "code",
   "execution_count": 122,
   "id": "2cd9bc8c",
   "metadata": {},
   "outputs": [
    {
     "data": {
      "text/plain": [
       "{'Palit RTX3060 TI DUAL LHR 8GB GDDR6 HDMI 3xDP': '€ 699,00',\n",
       " 'Zotac Gaming GeForce RTX 3060 Ti Twin Edge LHR NVIDIA 8 GB GDDR6': '€ 780,99',\n",
       " 'Gigabyte GeForce RTX 3060 Ti Gaming OC 8GB V2 LHR Grafikkarte': '€ 809,00',\n",
       " 'Gigabyte GeForce RTX 3060 Ti GAMING OC PRO 8GB V3 LHR grafische kaart': '€ 1.099,00',\n",
       " 'PNY GeForce RTX™ 3060 Ti 8GB XLR8 Gaming Revel Epic-X RGB™ Dual Fan grafische kaart LHR': '€ 969,76'}"
      ]
     },
     "execution_count": 122,
     "metadata": {},
     "output_type": "execute_result"
    }
   ],
   "source": [
    "getPrice(urls)"
   ]
  },
  {
   "cell_type": "code",
   "execution_count": null,
   "id": "53da67bf",
   "metadata": {},
   "outputs": [],
   "source": []
  }
 ],
 "metadata": {
  "kernelspec": {
   "display_name": "Python 3 (ipykernel)",
   "language": "python",
   "name": "python3"
  },
  "language_info": {
   "codemirror_mode": {
    "name": "ipython",
    "version": 3
   },
   "file_extension": ".py",
   "mimetype": "text/x-python",
   "name": "python",
   "nbconvert_exporter": "python",
   "pygments_lexer": "ipython3",
   "version": "3.9.4"
  }
 },
 "nbformat": 4,
 "nbformat_minor": 5
}
