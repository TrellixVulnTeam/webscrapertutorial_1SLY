{
 "cells": [
  {
   "cell_type": "code",
   "execution_count": 2,
   "id": "e57fd2e9",
   "metadata": {},
   "outputs": [],
   "source": [
    "import requests\n",
    "from bs4 import BeautifulSoup\n",
    "import pandas as pd"
   ]
  },
  {
   "cell_type": "code",
   "execution_count": 12,
   "id": "c349a957",
   "metadata": {},
   "outputs": [],
   "source": [
    "HEADERS = ({'User-Agent':\n",
    "            'Mozilla/5.0 (Windows NT 6.1) AppleWebKit/537.36 (KHTML, like Gecko) Chrome/41.0.2228.0 Safari/537.36',\n",
    "            'Accept-Language': 'en-US, en;q=0.5'})\n",
    "cookies = dict(name='jerry', password='888')"
   ]
  },
  {
   "cell_type": "code",
   "execution_count": 13,
   "id": "2ed92fca",
   "metadata": {},
   "outputs": [
    {
     "data": {
      "text/plain": [
       "<Response [200]>"
      ]
     },
     "execution_count": 13,
     "metadata": {},
     "output_type": "execute_result"
    }
   ],
   "source": [
    "url = 'https://www.amazon.de/-/nl/dp/B0971XRQR4/ref=sr_1_15?__mk_nl_NL=%C3%85M%C3%85%C5%BD%C3%95%C3%91&dchild=1&keywords=3060+ti&qid=1632072522&sr=8-15'\n",
    "page = requests.get(url, headers=HEADERS, cookies = cookies)\n",
    "page"
   ]
  },
  {
   "cell_type": "code",
   "execution_count": 16,
   "id": "f28eb95c",
   "metadata": {},
   "outputs": [],
   "source": [
    "soup = BeautifulSoup(page.content)"
   ]
  },
  {
   "cell_type": "code",
   "execution_count": 17,
   "id": "78eeb559",
   "metadata": {},
   "outputs": [
    {
     "data": {
      "text/plain": [
       "<span class=\"a-declarative\" data-action=\"sp-cc\" data-sp-cc=\"{}\"><form action=\"/cookieprefs?ref_=portal_banner_all\" id=\"sp-cc\" method=\"post\"><input name=\"anti-csrftoken-a2z\" type=\"hidden\" value=\"gwpFR+fZmcT025JB7pbyi3HUiMMVu5RnutugoRwncoQFAAAAAQAAAABhR3WRcmF3AAAAAGfFWqkEFVjyMh8T3F+olA==\"/><div class=\"sp-cc-text\"><h4 class=\"a-spacing-small\">Selecteer uw cookievoorkeuren</h4><p class=\"a-spacing-none\"><p>We gebruiken cookies en vergelijkbare tools die nodig zijn zodat je aankopen kan doen, en om je winkelervaringen te verbeteren en om onze diensten te leveren, zoals beschreven in onze <a href=\"/-/nl/gp/help/customer/display.html?nodeId=201890250&amp;ref_=footer_cookies_notice\">Cookieverklaring</a>. We gebruiken deze cookies ook om te begrijpen hoe klanten onze diensten gebruiken (bijvoorbeeld door websitebezoeken te meten), zodat we verbeteringen kunnen aanbrengen.</p>\n",
       "<p>Als je ermee akkoord gaat, gebruiken we ook cookies om je winkelervaring in de Amazon Stores te verbeteren, zoals beschreven in onze <a href=\"/-/nl/gp/help/customer/display.html?nodeId=201890250&amp;ref_=footer_cookies_notice\">Cookieverklaring</a>. Dit omvat het gebruik van <a href=\"/-/nl/cookieprefs/partners\">cookies van eerste en derde partijen</a> die standaard apparaatgegevens, zoals een unieke ID, opslaan of openen. Derde partijen gebruiken cookies om persoonlijke advertenties weer te geven en te meten, doelgroepinzichten te genereren en producten te ontwikkelen en te verbeteren. Klik op 'Cookies aanpassen' om deze cookies te weigeren, meer gedetailleerde keuzes te maken of voor meer informatie. Je kunt je keuzes op elk moment wijzigen door naar <a href=\"/-/nl/cookieprefs?ref_=ya_d_l_cookie_prefs\">Cookievoorkeuren</a> te gaan, zoals beschreven in de Cookieverklaring. Ga naar onze <a href=\"/-/nl/gp/help/customer/display.html?nodeId=201909010&amp;ref_=footer_privacy\">Privacyverklaring</a> voor meer informatie over hoe en voor welke doeleinden Amazon persoonsgegevens gebruikt (zoals de bestelgeschiedenis van Amazon Store).</p><div class=\"a-box a-alert-inline a-alert-inline-error aok-hidden a-spacing-top-base\" id=\"sp-cc-error\" role=\"alert\"><div class=\"a-box-inner a-alert-container\"><i class=\"a-icon a-icon-alert\"></i><div class=\"a-alert-content\">Sorry, er is een probleem opgetreden bij het opslaan van je cookievoorkeuren. Probeer het nog eens.</div></div></div></p></div><div class=\"sp-cc-buttons\"><span class=\"a-button a-button-primary\"><span class=\"a-button-inner\"><input class=\"a-button-input celwidget\" id=\"sp-cc-accept\" name=\"accept\" tabindex=\"1\" type=\"submit\" value=\"all\"/><span aria-hidden=\"true\" class=\"a-button-text\">Cookies aanvaarden</span></span></span><span class=\"a-button a-button-base\"><span class=\"a-button-inner\"><a class=\"a-button-text a-text-center celwidget\" href=\"/-/nl/cookieprefs?ref_=portal_banner_cpp\" id=\"sp-cc-customize\" tabindex=\"1\">Cookies aanpassen</a></span></span></div></form></span>"
      ]
     },
     "execution_count": 17,
     "metadata": {},
     "output_type": "execute_result"
    }
   ],
   "source": [
    "soup.find({'span':'a-size-base a-color-price'})"
   ]
  },
  {
   "cell_type": "code",
   "execution_count": null,
   "id": "5d5024f2",
   "metadata": {},
   "outputs": [],
   "source": []
  }
 ],
 "metadata": {
  "kernelspec": {
   "display_name": "Python 3 (ipykernel)",
   "language": "python",
   "name": "python3"
  },
  "language_info": {
   "codemirror_mode": {
    "name": "ipython",
    "version": 3
   },
   "file_extension": ".py",
   "mimetype": "text/x-python",
   "name": "python",
   "nbconvert_exporter": "python",
   "pygments_lexer": "ipython3",
   "version": "3.9.4"
  }
 },
 "nbformat": 4,
 "nbformat_minor": 5
}
